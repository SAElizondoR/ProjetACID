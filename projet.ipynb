{
 "cells": [
  {
   "cell_type": "markdown",
   "id": "0613b534",
   "metadata": {},
   "source": [
    "# (Mini) projet - Analyse, classification et indexation des données"
   ]
  },
  {
   "cell_type": "markdown",
   "id": "3ef51860",
   "metadata": {},
   "source": [
    "Premièrement, nous chargeons les données :"
   ]
  },
  {
   "cell_type": "code",
   "execution_count": 14,
   "id": "c00770fe",
   "metadata": {},
   "outputs": [],
   "source": [
    "from keras.datasets import fashion_mnist\n",
    "(X_train, y_train), (X_test, y_test) = fashion_mnist.load_data()"
   ]
  },
  {
   "cell_type": "markdown",
   "id": "ee2326be",
   "metadata": {},
   "source": [
    "Exemple montrant une image du jeu de données :"
   ]
  },
  {
   "cell_type": "code",
   "execution_count": 2,
   "id": "bc5fed64",
   "metadata": {},
   "outputs": [],
   "source": [
    "import matplotlib.pyplot as plt\n",
    "import matplotlib.cm as cm"
   ]
  },
  {
   "cell_type": "code",
   "execution_count": 15,
   "id": "cecd2dba",
   "metadata": {},
   "outputs": [
    {
     "data": {
      "image/png": "[encoded data removed]",
      "text/plain": [
       "<Figure size 640x480 with 1 Axes>"
      ]
     },
     "metadata": {},
     "output_type": "display_data"
    },
    {
     "name": "stdout",
     "output_type": "stream",
     "text": [
      "9\n"
     ]
    }
   ],
   "source": [
    "%matplotlib inline\n",
    "plt.imshow(X_train[0], cmap=cm.Greys)\n",
    "plt.show()\n",
    "print(y_train[0])"
   ]
  },
  {
   "cell_type": "markdown",
   "id": "3a474fb2",
   "metadata": {},
   "source": [
    "## 1. Reemplacer les étiquettes"
   ]
  },
  {
   "cell_type": "markdown",
   "id": "48e78dd0",
   "metadata": {},
   "source": [
    "Maintenant, nous allons remplacer les labels pour n'avoir que deux classes : 0 pour les vêtements (lorsque la classe d'origine est différente de 8) et 1 dans le cas des accessoires (lorsque la classe d'origine est égale à 8). Nous avons choisi que les vêtements soient la classe négative et les accessoires la classe positif pusique cette dernière est la classe minoritaire (cette décision nous aidera plus tard, lorsque nous obtiendrons les métriques des modèles) :"
   ]
  },
  {
   "cell_type": "code",
   "execution_count": 16,
   "id": "f87b283d",
   "metadata": {},
   "outputs": [],
   "source": [
    "def reemplacer_labels(y):\n",
    "    return (y == 8).astype(int)"
   ]
  },
  {
   "cell_type": "code",
   "execution_count": 17,
   "id": "8e8fdce1",
   "metadata": {},
   "outputs": [],
   "source": [
    "import numpy as np"
   ]
  },
  {
   "cell_type": "code",
   "execution_count": 18,
   "id": "aeeec387",
   "metadata": {},
   "outputs": [],
   "source": [
    "y_train = reemplacer_labels(y_train)\n",
    "y_test = reemplacer_labels(y_test)"
   ]
  },
  {
   "cell_type": "code",
   "execution_count": 68,
   "id": "f141e759",
   "metadata": {},
   "outputs": [
    {
     "name": "stdout",
     "output_type": "stream",
     "text": [
      "Number of vetements:  54000\n",
      "Number of accesoires:  6000\n"
     ]
    }
   ],
   "source": [
    "nb_vetements = np.count_nonzero(y_train == 0)\n",
    "nb_accesoires = np.count_nonzero(y_train == 1)\n",
    "print('Number of vetements: ', nb_vetements)\n",
    "print('Number of accesoires: ', nb_accesoires)"
   ]
  },
  {
   "cell_type": "markdown",
   "id": "9ac4925d",
   "metadata": {},
   "source": [
    "## 2. Tests avec classifieurs"
   ]
  },
  {
   "cell_type": "markdown",
   "id": "51c9938a",
   "metadata": {},
   "source": [
    "Nous allons entraîner le modèle avec les classifieurs k-nn, naïve Bayes, des arbres de décision et des forêts aléatoires. Tout d'abord, nous allons aplatir les données afin de pouvoir travailler avec sklearn :"
   ]
  },
  {
   "cell_type": "code",
   "execution_count": 8,
   "id": "3d9f3def",
   "metadata": {},
   "outputs": [],
   "source": [
    "X_train_flat = X_train.reshape(X_train.shape[0], -1)\n",
    "X_test_flat = X_test.reshape(X_test.shape[0], -1)"
   ]
  },
  {
   "cell_type": "code",
   "execution_count": 71,
   "id": "9dc140ea",
   "metadata": {},
   "outputs": [
    {
     "name": "stdout",
     "output_type": "stream",
     "text": [
      "Number of features:  784\n"
     ]
    }
   ],
   "source": [
    "print('Number of features: ', len(X_train_flat[0]))"
   ]
  },
  {
   "cell_type": "markdown",
   "id": "32358a90",
   "metadata": {},
   "source": [
    "Nous importerons également les modules liés aux métriques :"
   ]
  },
  {
   "cell_type": "code",
   "execution_count": 31,
   "id": "63069cea",
   "metadata": {},
   "outputs": [],
   "source": [
    "from sklearn.metrics import confusion_matrix, accuracy_score, precision_score, recall_score, f1_score"
   ]
  },
  {
   "cell_type": "markdown",
   "id": "89ca2770",
   "metadata": {},
   "source": [
    "### k-nn"
   ]
  },
  {
   "cell_type": "code",
   "execution_count": 30,
   "id": "343c1118",
   "metadata": {},
   "outputs": [],
   "source": [
    "from sklearn.neighbors import KNeighborsClassifier"
   ]
  },
  {
   "cell_type": "markdown",
   "id": "a92ab2b8",
   "metadata": {},
   "source": [
    "Tout d'abord, nous allons essayer le knn avec les hyperparamètres par défaut (c'est-à-dire avec 5 voisins) :"
   ]
  },
  {
   "cell_type": "code",
   "execution_count": 15,
   "id": "35f9e711",
   "metadata": {},
   "outputs": [],
   "source": [
    "knn = KNeighborsClassifier()"
   ]
  },
  {
   "cell_type": "code",
   "execution_count": 16,
   "id": "10becfda",
   "metadata": {},
   "outputs": [
    {
     "name": "stdout",
     "output_type": "stream",
     "text": [
      "2.07 ms ± 71.6 µs per loop (mean ± std. dev. of 7 runs, 100 loops each)\n"
     ]
    }
   ],
   "source": [
    "%timeit knn.fit(X_train_flat, y_train)"
   ]
  },
  {
   "cell_type": "code",
   "execution_count": 17,
   "id": "f9ad000d",
   "metadata": {},
   "outputs": [],
   "source": [
    "y_pred = knn.predict(X_test_flat)"
   ]
  },
  {
   "cell_type": "code",
   "execution_count": 18,
   "id": "17c29294",
   "metadata": {},
   "outputs": [
    {
     "name": "stdout",
     "output_type": "stream",
     "text": [
      "Confusion matrix:\n",
      " [[8979   21]\n",
      " [  50  950]]\n"
     ]
    }
   ],
   "source": [
    "print('Confusion matrix:\\n', confusion_matrix(y_test, y_pred))"
   ]
  },
  {
   "cell_type": "code",
   "execution_count": 19,
   "id": "be04d456",
   "metadata": {},
   "outputs": [
    {
     "name": "stdout",
     "output_type": "stream",
     "text": [
      "Accuracy:  99.29%\n",
      "Precision:  97.84%\n",
      "Recall:  95.00%\n",
      "F1:  96.40%\n"
     ]
    }
   ],
   "source": [
    "print('Accuracy: ', '{:2.2%}'.format(accuracy_score(y_test, y_pred)))\n",
    "print('Precision: ', '{:2.2%}'.format(precision_score(y_test, y_pred)))\n",
    "print('Recall: ', '{:2.2%}'.format(recall_score(y_test, y_pred)))\n",
    "print('F1 score: ', '{:2.2%}'.format(f1_score(y_test, y_pred)))"
   ]
  },
  {
   "cell_type": "markdown",
   "id": "61b00fc0",
   "metadata": {},
   "source": [
    "Nous pouvons voir que l'accuracy est assez élevée, mais nous devons tenir compte du fait que les classes sont déséquilibrées (il y a un rapport entre vrais positifs et négatifs de 10:1), donc l'accuracy sera bonne même si la prédiction des negatifs est pas bon (c'est-à-dire que nous courons le risque que notre modèle mette plus d'éléments que nous le devrions dans la classe négative sans affecter l'accuracy).\n",
    "\n",
    "Il est donc nécessaire de décider quelle métrique d'évaluation utiliser : précision, recall ou score F. Considérons que la précision est utilisée lorsque le coût d'avoir un faux positif est élevé (comme dans la détection de spam) et le recall, lorsque le coût d'avoir un faux négatif est élevé (comme dans le cas de la détection d'une maladie). Le score F1 est la moyenne harmonique des deux mesures précédentes, nous avons donc décidé d'utiliser cette dernière (puisque la mauvaise classification d'un accessoire n'est pas considérée comme plus importante que la mauvaise classification des vêtements, ou vice versa, mais nous voulons un équilibre entre les deux)."
   ]
  },
  {
   "cell_type": "markdown",
   "id": "c8a8efe3",
   "metadata": {},
   "source": [
    "Maintenant, nous allons essayer de trouver un modèle plus optimal :"
   ]
  },
  {
   "cell_type": "code",
   "execution_count": 58,
   "id": "b02d6723",
   "metadata": {},
   "outputs": [],
   "source": [
    "def search_knn_best_model(X_train, X_test, y_train, y_test, metric=accuracy_score, n=100, patience=5):\n",
    "    best_metric = -1\n",
    "    best_k = None\n",
    "    best_model = None\n",
    "    k = 1\n",
    "    p = patience\n",
    "    while k < n and p > 0:\n",
    "        knn = KNeighborsClassifier(n_neighbors=k)\n",
    "        knn.fit(X_train, y_train)\n",
    "        y_pred = knn.predict(X_test)\n",
    "        metric_value = metric(y_test, y_pred)\n",
    "        print('k = ', k, ', Metric = {:2.2%}'.format(metric_value))\n",
    "        if (metric_value > best_metric):\n",
    "            best_metric = metric_value\n",
    "            best_model = knn\n",
    "            best_k = k\n",
    "            p += 1\n",
    "        p -= 1\n",
    "        k += 1\n",
    "    return best_model, best_k, best_metric"
   ]
  },
  {
   "cell_type": "code",
   "execution_count": 59,
   "id": "02667332",
   "metadata": {},
   "outputs": [],
   "source": [
    "def knn_test():\n",
    "    knn, k, f1_value = search_knn_best_model(X_train_flat, X_test_flat, y_train, y_test, f1_score)\n",
    "    print('Best model: k = ', k, ', F1 score = {:2.2%}'.format(f1_value))"
   ]
  },
  {
   "cell_type": "code",
   "execution_count": 60,
   "id": "1d420374",
   "metadata": {},
   "outputs": [
    {
     "name": "stdout",
     "output_type": "stream",
     "text": [
      "k =  1 , Metric = 97.01%\n",
      "k =  2 , Metric = 95.78%\n",
      "k =  3 , Metric = 96.55%\n",
      "k =  4 , Metric = 96.42%\n",
      "k =  5 , Metric = 96.40%\n",
      "k =  6 , Metric = 96.06%\n",
      "Best model: k =  1 , F1 score = 97.01%\n",
      "1min 30s ± 0 ns per loop (mean ± std. dev. of 1 run, 1 loop each)\n"
     ]
    }
   ],
   "source": [
    "%timeit -r 1 -n 1 knn_test()"
   ]
  },
  {
   "cell_type": "markdown",
   "id": "581da68c",
   "metadata": {},
   "source": [
    "### Naïve Bayes"
   ]
  },
  {
   "cell_type": "markdown",
   "id": "9b225e4b",
   "metadata": {},
   "source": [
    "Dans ce cas, nous nous en tiendrons aux hyperparamètres par défaut (laissons la bibliothèque calculer les probabilités à priori en fonction des données)."
   ]
  },
  {
   "cell_type": "code",
   "execution_count": 49,
   "id": "8e537fe1",
   "metadata": {},
   "outputs": [],
   "source": [
    "from sklearn.naive_bayes import GaussianNB"
   ]
  },
  {
   "cell_type": "code",
   "execution_count": 50,
   "id": "e8439d33",
   "metadata": {},
   "outputs": [],
   "source": [
    "nb = GaussianNB()\n",
    "%timeit nb.fit(X_train_flat, y_train)"
   ]
  },
  {
   "cell_type": "code",
   "execution_count": 52,
   "id": "593a8e28",
   "metadata": {},
   "outputs": [],
   "source": [
    "y_pred = nb.predict(X_test_flat)"
   ]
  },
  {
   "cell_type": "code",
   "execution_count": 53,
   "id": "c7fd7cb4",
   "metadata": {},
   "outputs": [
    {
     "name": "stdout",
     "output_type": "stream",
     "text": [
      "Confusion matrix:\n",
      " [[8290  710]\n",
      " [ 238  762]]\n"
     ]
    }
   ],
   "source": [
    "print('Confusion matrix:\\n', confusion_matrix(y_test, y_pred))"
   ]
  },
  {
   "cell_type": "code",
   "execution_count": 56,
   "id": "50f0c539",
   "metadata": {},
   "outputs": [
    {
     "name": "stdout",
     "output_type": "stream",
     "text": [
      "F1 score:  61.65%\n"
     ]
    }
   ],
   "source": [
    "print('F1 score: ', '{:2.2%}'.format(f1_score(y_test, y_pred)))"
   ]
  },
  {
   "cell_type": "markdown",
   "id": "64f4ffd9",
   "metadata": {},
   "source": [
    "### Arbres de décision"
   ]
  },
  {
   "cell_type": "code",
   "execution_count": 10,
   "id": "4b773ddc",
   "metadata": {},
   "outputs": [],
   "source": [
    "from sklearn import tree"
   ]
  },
  {
   "cell_type": "markdown",
   "id": "ea036c37",
   "metadata": {},
   "source": [
    "Nous testons la classification avec les paramètres par défaut :"
   ]
  },
  {
   "cell_type": "code",
   "execution_count": null,
   "id": "27fe48aa",
   "metadata": {},
   "outputs": [],
   "source": [
    "dt = tree.DecisionTreeClassifier()\n",
    "%timeit dt.fit(X_train_flat, y_train)"
   ]
  },
  {
   "cell_type": "code",
   "execution_count": 4,
   "id": "aa2068e5",
   "metadata": {},
   "outputs": [],
   "source": [
    "from sklearn.tree import export_graphviz\n",
    "from six import StringIO\n",
    "from IPython.display import Image\n",
    "# import pydotplus\n",
    "import numpy as np"
   ]
  },
  {
   "cell_type": "code",
   "execution_count": null,
   "id": "00290922",
   "metadata": {},
   "outputs": [],
   "source": [
    "dot_data = StringIO()\n",
    "export_graphviz(dt, out_file=dot_data, filled=True, rounded=True, special_characters=True)\n",
    "graph = pydotplus.graph_from_data(dot_data.getvalue())\n",
    "Image(graph.create_png())"
   ]
  },
  {
   "cell_type": "code",
   "execution_count": 21,
   "id": "a3d2e866",
   "metadata": {},
   "outputs": [],
   "source": [
    "y_pred = dt.predict(X_test_flat)"
   ]
  },
  {
   "cell_type": "code",
   "execution_count": 22,
   "id": "0c0c7d54",
   "metadata": {},
   "outputs": [
    {
     "name": "stdout",
     "output_type": "stream",
     "text": [
      "F1 score:  91.00%\n"
     ]
    }
   ],
   "source": [
    "print('F1 score: ', '{:2.2%}'.format(f1_score(y_test, y_pred)))"
   ]
  },
  {
   "cell_type": "markdown",
   "id": "c78e6a38",
   "metadata": {},
   "source": [
    "Maintenant nous allons essayer de trouver de meilleurs paramètres pour notre modèle, nous utilisons donc RandomizedSearchCV :"
   ]
  },
  {
   "cell_type": "code",
   "execution_count": 4,
   "id": "18093ac6",
   "metadata": {},
   "outputs": [],
   "source": [
    "from sklearn.model_selection import RandomizedSearchCV"
   ]
  },
  {
   "cell_type": "code",
   "execution_count": 14,
   "id": "83378042",
   "metadata": {},
   "outputs": [
    {
     "name": "stdout",
     "output_type": "stream",
     "text": [
      "{'max_depth': [3, 5, 10], 'min_samples_leaf': [1, 2, 5], 'min_samples_split': [2, 3, 4]}\n"
     ]
    }
   ],
   "source": [
    "criterion = ['gini', 'entropy']\n",
    "max_depth = [3, 5, 10]\n",
    "min_samples_leaf = [1, 2, 5]\n",
    "min_samples_split = [2, 3, 4]\n",
    "\n",
    "random_grid = {'max_depth': max_depth,\n",
    "              'min_samples_leaf': min_samples_leaf,\n",
    "              'min_samples_split': min_samples_split}\n",
    "print(random_grid)"
   ]
  },
  {
   "cell_type": "code",
   "execution_count": 15,
   "id": "35ed961a",
   "metadata": {},
   "outputs": [],
   "source": [
    "dt = tree.DecisionTreeClassifier()\n",
    "dt_random = RandomizedSearchCV(estimator=dt, param_distributions=random_grid, n_iter=9,\n",
    "                               random_state=2, cv=3, verbose=2, n_jobs=-1)"
   ]
  },
  {
   "cell_type": "code",
   "execution_count": 16,
   "id": "2b123e46",
   "metadata": {},
   "outputs": [
    {
     "name": "stdout",
     "output_type": "stream",
     "text": [
      "Fitting 3 folds for each of 9 candidates, totalling 27 fits\n",
      "Fitting 3 folds for each of 9 candidates, totalling 27 fits\n",
      "Fitting 3 folds for each of 9 candidates, totalling 27 fits\n",
      "Fitting 3 folds for each of 9 candidates, totalling 27 fits\n",
      "Fitting 3 folds for each of 9 candidates, totalling 27 fits\n",
      "Fitting 3 folds for each of 9 candidates, totalling 27 fits\n",
      "Fitting 3 folds for each of 9 candidates, totalling 27 fits\n",
      "Fitting 3 folds for each of 9 candidates, totalling 27 fits\n",
      "47.2 s ± 263 ms per loop (mean ± std. dev. of 7 runs, 1 loop each)\n"
     ]
    }
   ],
   "source": [
    "dt_random.fit(X_train_flat, y_train)"
   ]
  },
  {
   "cell_type": "code",
   "execution_count": 17,
   "id": "5f18a812",
   "metadata": {},
   "outputs": [
    {
     "data": {
      "text/plain": [
       "{'min_samples_split': 4, 'min_samples_leaf': 1, 'max_depth': 10}"
      ]
     },
     "execution_count": 17,
     "metadata": {},
     "output_type": "execute_result"
    },
    {
     "name": "stdout",
     "output_type": "stream",
     "text": [
      "[CV 1/3] END max_depth=3, min_samples_leaf=1, min_samples_split=2;, score=0.952 total time=   5.2s\n",
      "[CV 3/3] END max_depth=5, min_samples_leaf=1, min_samples_split=2;, score=0.978 total time=   8.2s\n",
      "[CV 2/3] END max_depth=5, min_samples_leaf=5, min_samples_split=3;, score=0.979 total time=   7.9s\n",
      "[CV 3/3] END max_depth=3, min_samples_leaf=5, min_samples_split=2;, score=0.951 total time=   5.2s\n",
      "[CV 2/3] END max_depth=10, min_samples_leaf=5, min_samples_split=3;, score=0.984 total time=  17.1s\n",
      "[CV 1/3] END max_depth=5, min_samples_leaf=2, min_samples_split=2;, score=0.978 total time=   8.0s\n",
      "[CV 2/3] END max_depth=3, min_samples_leaf=2, min_samples_split=2;, score=0.949 total time=   4.7s\n",
      "[CV 1/3] END max_depth=3, min_samples_leaf=1, min_samples_split=2;, score=0.952 total time=   5.2s\n",
      "[CV 2/3] END max_depth=10, min_samples_leaf=1, min_samples_split=4;, score=0.984 total time=  15.6s\n",
      "[CV 1/3] END max_depth=3, min_samples_leaf=5, min_samples_split=2;, score=0.952 total time=   4.8s\n",
      "[CV 3/3] END max_depth=5, min_samples_leaf=5, min_samples_split=4;, score=0.978 total time=   6.5s\n",
      "[CV 2/3] END max_depth=5, min_samples_leaf=1, min_samples_split=2;, score=0.980 total time=   8.1s\n",
      "[CV 3/3] END max_depth=10, min_samples_leaf=1, min_samples_split=4;, score=0.981 total time=  16.6s\n",
      "[CV 2/3] END max_depth=3, min_samples_leaf=2, min_samples_split=2;, score=0.949 total time=   4.7s\n",
      "[CV 1/3] END max_depth=3, min_samples_leaf=1, min_samples_split=2;, score=0.952 total time=   5.4s\n",
      "[CV 1/3] END max_depth=10, min_samples_leaf=1, min_samples_split=4;, score=0.983 total time=  15.7s\n",
      "[CV 1/3] END max_depth=3, min_samples_leaf=5, min_samples_split=2;, score=0.952 total time=   5.4s\n",
      "[CV 3/3] END max_depth=5, min_samples_leaf=5, min_samples_split=4;, score=0.978 total time=   6.2s\n",
      "[CV 2/3] END max_depth=5, min_samples_leaf=1, min_samples_split=2;, score=0.980 total time=   8.9s\n",
      "[CV 1/3] END max_depth=5, min_samples_leaf=5, min_samples_split=3;, score=0.978 total time=   8.2s\n",
      "[CV 3/3] END max_depth=5, min_samples_leaf=2, min_samples_split=2;, score=0.978 total time=   8.0s\n",
      "[CV 2/3] END max_depth=5, min_samples_leaf=5, min_samples_split=4;, score=0.979 total time=   6.7s\n",
      "[CV 1/3] END max_depth=5, min_samples_leaf=1, min_samples_split=2;, score=0.978 total time=   8.3s\n",
      "[CV 3/3] END max_depth=10, min_samples_leaf=1, min_samples_split=4;, score=0.981 total time=  16.9s\n",
      "[CV 3/3] END max_depth=3, min_samples_leaf=2, min_samples_split=2;, score=0.951 total time=   4.6s\n",
      "[CV 2/3] END max_depth=3, min_samples_leaf=1, min_samples_split=2;, score=0.949 total time=   5.2s\n",
      "[CV 1/3] END max_depth=10, min_samples_leaf=1, min_samples_split=4;, score=0.984 total time=  16.9s\n",
      "[CV 2/3] END max_depth=3, min_samples_leaf=5, min_samples_split=2;, score=0.949 total time=   5.0s\n",
      "[CV 1/3] END max_depth=10, min_samples_leaf=5, min_samples_split=3;, score=0.983 total time=  16.2s\n",
      "[CV 2/3] END max_depth=5, min_samples_leaf=2, min_samples_split=2;, score=0.980 total time=   8.0s\n",
      "[CV 1/3] END max_depth=5, min_samples_leaf=5, min_samples_split=4;, score=0.978 total time=   6.8s\n",
      "[CV 1/3] END max_depth=5, min_samples_leaf=1, min_samples_split=2;, score=0.978 total time=   8.0s\n",
      "[CV 3/3] END max_depth=10, min_samples_leaf=1, min_samples_split=4;, score=0.982 total time=  15.7s\n",
      "[CV 1/3] END max_depth=3, min_samples_leaf=2, min_samples_split=2;, score=0.952 total time=   4.8s\n",
      "[CV 3/3] END max_depth=10, min_samples_leaf=5, min_samples_split=3;, score=0.982 total time=  16.2s\n",
      "[CV 2/3] END max_depth=5, min_samples_leaf=2, min_samples_split=2;, score=0.980 total time=   8.7s\n",
      "[CV 1/3] END max_depth=5, min_samples_leaf=5, min_samples_split=4;, score=0.978 total time=   6.7s\n",
      "[CV 3/3] END max_depth=3, min_samples_leaf=1, min_samples_split=2;, score=0.951 total time=   4.9s\n",
      "[CV 3/3] END max_depth=5, min_samples_leaf=1, min_samples_split=2;, score=0.978 total time=   8.1s\n",
      "[CV 2/3] END max_depth=5, min_samples_leaf=5, min_samples_split=3;, score=0.980 total time=   8.3s\n",
      "[CV 3/3] END max_depth=3, min_samples_leaf=5, min_samples_split=2;, score=0.951 total time=   5.3s\n",
      "[CV 2/3] END max_depth=10, min_samples_leaf=5, min_samples_split=3;, score=0.983 total time=  16.7s\n",
      "[CV 3/3] END max_depth=5, min_samples_leaf=5, min_samples_split=3;, score=0.978 total time=   8.5s\n",
      "[CV 1/3] END max_depth=5, min_samples_leaf=5, min_samples_split=4;, score=0.978 total time=   6.8s\n",
      "[CV 3/3] END max_depth=3, min_samples_leaf=1, min_samples_split=2;, score=0.951 total time=   5.7s\n",
      "[CV 1/3] END max_depth=10, min_samples_leaf=1, min_samples_split=4;, score=0.984 total time=  16.3s\n",
      "[CV 1/3] END max_depth=3, min_samples_leaf=5, min_samples_split=2;, score=0.952 total time=   5.1s\n",
      "[CV 3/3] END max_depth=5, min_samples_leaf=5, min_samples_split=4;, score=0.978 total time=   5.9s\n",
      "[CV 2/3] END max_depth=5, min_samples_leaf=1, min_samples_split=2;, score=0.980 total time=   8.5s\n",
      "[CV 1/3] END max_depth=5, min_samples_leaf=5, min_samples_split=3;, score=0.978 total time=   8.2s\n",
      "[CV 3/3] END max_depth=5, min_samples_leaf=2, min_samples_split=2;, score=0.978 total time=   8.5s\n",
      "[CV 1/3] END max_depth=5, min_samples_leaf=5, min_samples_split=4;, score=0.978 total time=   6.7s\n",
      "[CV 3/3] END max_depth=3, min_samples_leaf=1, min_samples_split=2;, score=0.951 total time=   5.6s\n",
      "[CV 2/3] END max_depth=10, min_samples_leaf=1, min_samples_split=4;, score=0.984 total time=  16.6s\n",
      "[CV 3/3] END max_depth=3, min_samples_leaf=5, min_samples_split=2;, score=0.951 total time=   5.1s\n",
      "[CV 1/3] END max_depth=5, min_samples_leaf=1, min_samples_split=2;, score=0.978 total time=   8.1s\n",
      "[CV 3/3] END max_depth=10, min_samples_leaf=1, min_samples_split=4;, score=0.981 total time=  15.5s\n",
      "[CV 1/3] END max_depth=3, min_samples_leaf=2, min_samples_split=2;, score=0.952 total time=   4.8s\n",
      "[CV 3/3] END max_depth=10, min_samples_leaf=5, min_samples_split=3;, score=0.982 total time=  17.0s\n",
      "[CV 3/3] END max_depth=5, min_samples_leaf=5, min_samples_split=3;, score=0.978 total time=   8.4s\n",
      "[CV 2/3] END max_depth=5, min_samples_leaf=5, min_samples_split=4;, score=0.980 total time=   6.7s\n",
      "[CV 1/3] END max_depth=5, min_samples_leaf=1, min_samples_split=2;, score=0.978 total time=   8.4s\n",
      "[CV 3/3] END max_depth=10, min_samples_leaf=1, min_samples_split=4;, score=0.981 total time=  16.1s\n",
      "[CV 2/3] END max_depth=3, min_samples_leaf=2, min_samples_split=2;, score=0.949 total time=   5.1s\n",
      "[CV 2/3] END max_depth=3, min_samples_leaf=1, min_samples_split=2;, score=0.949 total time=   5.1s\n",
      "[CV 2/3] END max_depth=10, min_samples_leaf=1, min_samples_split=4;, score=0.984 total time=  16.1s\n",
      "[CV 2/3] END max_depth=3, min_samples_leaf=5, min_samples_split=2;, score=0.949 total time=   5.3s\n",
      "[CV 1/3] END max_depth=10, min_samples_leaf=5, min_samples_split=3;, score=0.983 total time=  17.2s\n",
      "[CV 3/3] END max_depth=5, min_samples_leaf=2, min_samples_split=2;, score=0.978 total time=   8.6s\n",
      "[CV 2/3] END max_depth=5, min_samples_leaf=5, min_samples_split=4;, score=0.979 total time=   6.2s\n",
      "[CV 1/3] END max_depth=5, min_samples_leaf=1, min_samples_split=2;, score=0.978 total time=   8.0s\n",
      "[CV 3/3] END max_depth=10, min_samples_leaf=1, min_samples_split=4;, score=0.980 total time=  16.3s\n",
      "[CV 1/3] END max_depth=3, min_samples_leaf=2, min_samples_split=2;, score=0.952 total time=   5.0s\n",
      "[CV 3/3] END max_depth=10, min_samples_leaf=5, min_samples_split=3;, score=0.982 total time=  15.9s\n",
      "[CV 3/3] END max_depth=5, min_samples_leaf=5, min_samples_split=3;, score=0.978 total time=   8.1s\n",
      "[CV 1/3] END max_depth=3, min_samples_leaf=2, min_samples_split=2;, score=0.952 total time=   4.8s\n",
      "[CV 3/3] END max_depth=10, min_samples_leaf=5, min_samples_split=3;, score=0.982 total time=  15.5s\n",
      "[CV 3/3] END max_depth=5, min_samples_leaf=5, min_samples_split=3;, score=0.978 total time=   8.2s\n",
      "[CV 1/3] END max_depth=3, min_samples_leaf=2, min_samples_split=2;, score=0.952 total time=   4.9s\n",
      "[CV 2/3] END max_depth=10, min_samples_leaf=5, min_samples_split=3;, score=0.983 total time=  16.1s\n",
      "[CV 1/3] END max_depth=5, min_samples_leaf=2, min_samples_split=2;, score=0.978 total time=   8.0s\n",
      "[CV 3/3] END max_depth=3, min_samples_leaf=2, min_samples_split=2;, score=0.951 total time=   4.6s\n",
      "[CV 1/3] END max_depth=3, min_samples_leaf=1, min_samples_split=2;, score=0.952 total time=   5.2s\n",
      "[CV 2/3] END max_depth=10, min_samples_leaf=1, min_samples_split=4;, score=0.984 total time=  16.4s\n",
      "[CV 1/3] END max_depth=3, min_samples_leaf=5, min_samples_split=2;, score=0.952 total time=   4.9s\n",
      "[CV 3/3] END max_depth=5, min_samples_leaf=5, min_samples_split=4;, score=0.978 total time=   6.2s\n",
      "[CV 2/3] END max_depth=5, min_samples_leaf=1, min_samples_split=2;, score=0.979 total time=   9.0s\n",
      "[CV 1/3] END max_depth=5, min_samples_leaf=5, min_samples_split=3;, score=0.978 total time=   8.1s\n",
      "[CV 3/3] END max_depth=5, min_samples_leaf=2, min_samples_split=2;, score=0.978 total time=   8.1s\n",
      "[CV 2/3] END max_depth=5, min_samples_leaf=5, min_samples_split=4;, score=0.979 total time=   6.4s\n",
      "[CV 1/3] END max_depth=5, min_samples_leaf=1, min_samples_split=2;, score=0.978 total time=   8.3s\n",
      "[CV 1/3] END max_depth=5, min_samples_leaf=5, min_samples_split=3;, score=0.978 total time=   8.0s\n",
      "[CV 3/3] END max_depth=5, min_samples_leaf=2, min_samples_split=2;, score=0.978 total time=   8.7s\n",
      "[CV 3/3] END max_depth=3, min_samples_leaf=2, min_samples_split=2;, score=0.951 total time=   4.7s\n",
      "[CV 2/3] END max_depth=3, min_samples_leaf=1, min_samples_split=2;, score=0.949 total time=   5.3s\n",
      "[CV 3/3] END max_depth=5, min_samples_leaf=1, min_samples_split=2;, score=0.978 total time=   8.3s\n",
      "[CV 2/3] END max_depth=5, min_samples_leaf=5, min_samples_split=3;, score=0.980 total time=   8.1s\n",
      "[CV 2/3] END max_depth=3, min_samples_leaf=5, min_samples_split=2;, score=0.949 total time=   5.3s\n",
      "[CV 1/3] END max_depth=10, min_samples_leaf=5, min_samples_split=3;, score=0.983 total time=  16.4s\n",
      "[CV 2/3] END max_depth=5, min_samples_leaf=2, min_samples_split=2;, score=0.980 total time=   8.4s\n",
      "[CV 1/3] END max_depth=5, min_samples_leaf=5, min_samples_split=4;, score=0.978 total time=   6.8s\n",
      "[CV 3/3] END max_depth=3, min_samples_leaf=1, min_samples_split=2;, score=0.951 total time=   5.1s\n",
      "[CV 3/3] END max_depth=5, min_samples_leaf=1, min_samples_split=2;, score=0.978 total time=   8.1s\n",
      "[CV 2/3] END max_depth=5, min_samples_leaf=5, min_samples_split=3;, score=0.979 total time=   8.4s\n",
      "[CV 2/3] END max_depth=3, min_samples_leaf=5, min_samples_split=2;, score=0.949 total time=   4.9s\n",
      "[CV 3/3] END max_depth=5, min_samples_leaf=5, min_samples_split=4;, score=0.978 total time=   6.2s\n",
      "[CV 2/3] END max_depth=5, min_samples_leaf=1, min_samples_split=2;, score=0.979 total time=   8.8s\n",
      "[CV 1/3] END max_depth=5, min_samples_leaf=5, min_samples_split=3;, score=0.978 total time=   8.1s\n",
      "[CV 2/3] END max_depth=5, min_samples_leaf=2, min_samples_split=2;, score=0.979 total time=   8.0s\n",
      "[CV 2/3] END max_depth=3, min_samples_leaf=2, min_samples_split=2;, score=0.949 total time=   4.4s\n"
     ]
    },
    {
     "name": "stdout",
     "output_type": "stream",
     "text": [
      "[CV 3/3] END max_depth=3, min_samples_leaf=1, min_samples_split=2;, score=0.951 total time=   5.2s\n",
      "[CV 1/3] END max_depth=10, min_samples_leaf=1, min_samples_split=4;, score=0.983 total time=  15.9s\n",
      "[CV 2/3] END max_depth=3, min_samples_leaf=5, min_samples_split=2;, score=0.949 total time=   4.9s\n",
      "[CV 1/3] END max_depth=10, min_samples_leaf=5, min_samples_split=3;, score=0.983 total time=  17.1s\n",
      "[CV 2/3] END max_depth=5, min_samples_leaf=2, min_samples_split=2;, score=0.979 total time=   8.2s\n",
      "[CV 1/3] END max_depth=5, min_samples_leaf=5, min_samples_split=4;, score=0.978 total time=   6.3s\n",
      "[CV 3/3] END max_depth=3, min_samples_leaf=1, min_samples_split=2;, score=0.951 total time=   5.2s\n",
      "[CV 1/3] END max_depth=10, min_samples_leaf=1, min_samples_split=4;, score=0.983 total time=  16.3s\n",
      "[CV 2/3] END max_depth=3, min_samples_leaf=5, min_samples_split=2;, score=0.949 total time=   5.2s\n",
      "[CV 1/3] END max_depth=10, min_samples_leaf=5, min_samples_split=3;, score=0.983 total time=  16.3s\n",
      "[CV 2/3] END max_depth=5, min_samples_leaf=2, min_samples_split=2;, score=0.980 total time=   8.9s\n",
      "[CV 1/3] END max_depth=5, min_samples_leaf=5, min_samples_split=4;, score=0.978 total time=   6.7s\n",
      "[CV 1/3] END max_depth=5, min_samples_leaf=1, min_samples_split=2;, score=0.978 total time=   8.6s\n",
      "[CV 3/3] END max_depth=10, min_samples_leaf=1, min_samples_split=4;, score=0.982 total time=  16.3s\n",
      "[CV 2/3] END max_depth=3, min_samples_leaf=2, min_samples_split=2;, score=0.949 total time=   4.9s\n",
      "[CV 2/3] END max_depth=3, min_samples_leaf=1, min_samples_split=2;, score=0.949 total time=   5.7s\n",
      "[CV 2/3] END max_depth=10, min_samples_leaf=1, min_samples_split=4;, score=0.984 total time=  16.8s\n",
      "[CV 2/3] END max_depth=3, min_samples_leaf=5, min_samples_split=2;, score=0.949 total time=   4.9s\n",
      "[CV 1/3] END max_depth=10, min_samples_leaf=5, min_samples_split=3;, score=0.983 total time=  16.2s\n",
      "[CV 1/3] END max_depth=5, min_samples_leaf=2, min_samples_split=2;, score=0.978 total time=   9.6s\n",
      "[CV 2/3] END max_depth=5, min_samples_leaf=5, min_samples_split=4;, score=0.979 total time=   6.5s\n",
      "[CV 1/3] END max_depth=5, min_samples_leaf=1, min_samples_split=2;, score=0.978 total time=   8.6s\n",
      "[CV 3/3] END max_depth=10, min_samples_leaf=1, min_samples_split=4;, score=0.982 total time=  16.7s\n",
      "[CV 3/3] END max_depth=3, min_samples_leaf=2, min_samples_split=2;, score=0.951 total time=   4.7s\n",
      "[CV 2/3] END max_depth=5, min_samples_leaf=1, min_samples_split=2;, score=0.980 total time=   8.4s\n",
      "[CV 1/3] END max_depth=5, min_samples_leaf=5, min_samples_split=3;, score=0.978 total time=   8.0s\n",
      "[CV 3/3] END max_depth=5, min_samples_leaf=2, min_samples_split=2;, score=0.978 total time=   8.0s\n",
      "[CV 2/3] END max_depth=5, min_samples_leaf=5, min_samples_split=4;, score=0.980 total time=   6.4s\n",
      "[CV 3/3] END max_depth=3, min_samples_leaf=1, min_samples_split=2;, score=0.951 total time=   5.0s\n",
      "[CV 3/3] END max_depth=5, min_samples_leaf=1, min_samples_split=2;, score=0.978 total time=   8.4s\n",
      "[CV 2/3] END max_depth=5, min_samples_leaf=5, min_samples_split=3;, score=0.980 total time=   8.3s\n",
      "[CV 2/3] END max_depth=3, min_samples_leaf=5, min_samples_split=2;, score=0.949 total time=   4.9s\n",
      "[CV 1/3] END max_depth=10, min_samples_leaf=5, min_samples_split=3;, score=0.983 total time=  15.7s\n",
      "[CV 3/3] END max_depth=5, min_samples_leaf=5, min_samples_split=3;, score=0.978 total time=   8.3s\n",
      "[CV 1/3] END max_depth=3, min_samples_leaf=2, min_samples_split=2;, score=0.952 total time=   5.2s\n",
      "[CV 1/3] END max_depth=3, min_samples_leaf=1, min_samples_split=2;, score=0.952 total time=   5.0s\n",
      "[CV 1/3] END max_depth=10, min_samples_leaf=1, min_samples_split=4;, score=0.984 total time=  15.9s\n",
      "[CV 1/3] END max_depth=3, min_samples_leaf=5, min_samples_split=2;, score=0.952 total time=   4.8s\n",
      "[CV 2/3] END max_depth=5, min_samples_leaf=5, min_samples_split=4;, score=0.980 total time=   6.2s\n",
      "[CV 3/3] END max_depth=3, min_samples_leaf=1, min_samples_split=2;, score=0.951 total time=   5.8s\n",
      "[CV 2/3] END max_depth=10, min_samples_leaf=1, min_samples_split=4;, score=0.984 total time=  16.4s\n",
      "[CV 3/3] END max_depth=3, min_samples_leaf=5, min_samples_split=2;, score=0.951 total time=   5.2s\n",
      "[CV 2/3] END max_depth=10, min_samples_leaf=5, min_samples_split=3;, score=0.983 total time=  16.3s\n",
      "[CV 3/3] END max_depth=5, min_samples_leaf=5, min_samples_split=3;, score=0.978 total time=   8.2s\n",
      "[CV 2/3] END max_depth=3, min_samples_leaf=2, min_samples_split=2;, score=0.949 total time=   4.9s\n",
      "[CV 1/3] END max_depth=3, min_samples_leaf=1, min_samples_split=2;, score=0.952 total time=   5.2s\n",
      "[CV 1/3] END max_depth=10, min_samples_leaf=1, min_samples_split=4;, score=0.984 total time=  15.9s\n",
      "[CV 1/3] END max_depth=3, min_samples_leaf=5, min_samples_split=2;, score=0.952 total time=   5.5s\n",
      "[CV 1/3] END max_depth=10, min_samples_leaf=5, min_samples_split=3;, score=0.983 total time=  17.7s\n",
      "[CV 3/3] END max_depth=5, min_samples_leaf=2, min_samples_split=2;, score=0.978 total time=   8.2s\n",
      "[CV 2/3] END max_depth=5, min_samples_leaf=5, min_samples_split=4;, score=0.979 total time=   6.2s\n",
      "[CV 2/3] END max_depth=3, min_samples_leaf=1, min_samples_split=2;, score=0.949 total time=   5.3s\n",
      "[CV 2/3] END max_depth=10, min_samples_leaf=1, min_samples_split=4;, score=0.984 total time=  15.7s\n",
      "[CV 1/3] END max_depth=3, min_samples_leaf=5, min_samples_split=2;, score=0.952 total time=   4.9s\n",
      "[CV 3/3] END max_depth=5, min_samples_leaf=5, min_samples_split=4;, score=0.978 total time=   6.1s\n",
      "[CV 2/3] END max_depth=5, min_samples_leaf=1, min_samples_split=2;, score=0.980 total time=   8.5s\n",
      "[CV 1/3] END max_depth=5, min_samples_leaf=5, min_samples_split=3;, score=0.978 total time=   8.7s\n",
      "[CV 3/3] END max_depth=5, min_samples_leaf=2, min_samples_split=2;, score=0.978 total time=   8.0s\n",
      "[CV 3/3] END max_depth=3, min_samples_leaf=2, min_samples_split=2;, score=0.951 total time=   4.7s\n",
      "[CV 2/3] END max_depth=3, min_samples_leaf=1, min_samples_split=2;, score=0.949 total time=   4.9s\n",
      "[CV 3/3] END max_depth=5, min_samples_leaf=1, min_samples_split=2;, score=0.978 total time=   8.9s\n",
      "[CV 2/3] END max_depth=5, min_samples_leaf=5, min_samples_split=3;, score=0.980 total time=   8.4s\n",
      "[CV 3/3] END max_depth=3, min_samples_leaf=5, min_samples_split=2;, score=0.951 total time=   5.4s\n",
      "[CV 2/3] END max_depth=10, min_samples_leaf=5, min_samples_split=3;, score=0.984 total time=  16.3s\n",
      "[CV 1/3] END max_depth=5, min_samples_leaf=2, min_samples_split=2;, score=0.978 total time=   9.5s\n",
      "[CV 3/3] END max_depth=5, min_samples_leaf=5, min_samples_split=4;, score=0.978 total time=   6.5s\n",
      "[CV 2/3] END max_depth=5, min_samples_leaf=1, min_samples_split=2;, score=0.980 total time=   8.7s\n",
      "[CV 1/3] END max_depth=5, min_samples_leaf=5, min_samples_split=3;, score=0.978 total time=   8.1s\n",
      "[CV 1/3] END max_depth=5, min_samples_leaf=2, min_samples_split=2;, score=0.978 total time=   8.2s\n",
      "[CV 3/3] END max_depth=3, min_samples_leaf=2, min_samples_split=2;, score=0.951 total time=   4.3s\n",
      "[CV 3/3] END max_depth=10, min_samples_leaf=5, min_samples_split=3;, score=0.982 total time=  16.3s\n",
      "[CV 1/3] END max_depth=5, min_samples_leaf=2, min_samples_split=2;, score=0.978 total time=   8.4s\n",
      "[CV 3/3] END max_depth=3, min_samples_leaf=2, min_samples_split=2;, score=0.951 total time=   4.6s\n",
      "[CV 2/3] END max_depth=3, min_samples_leaf=1, min_samples_split=2;, score=0.949 total time=   5.4s\n",
      "[CV 2/3] END max_depth=10, min_samples_leaf=1, min_samples_split=4;, score=0.985 total time=  16.5s\n",
      "[CV 3/3] END max_depth=3, min_samples_leaf=5, min_samples_split=2;, score=0.951 total time=   5.2s\n",
      "[CV 2/3] END max_depth=10, min_samples_leaf=5, min_samples_split=3;, score=0.984 total time=  16.6s\n",
      "[CV 1/3] END max_depth=5, min_samples_leaf=2, min_samples_split=2;, score=0.978 total time=   8.8s\n",
      "[CV 1/3] END max_depth=5, min_samples_leaf=5, min_samples_split=4;, score=0.978 total time=   6.8s\n",
      "[CV 3/3] END max_depth=10, min_samples_leaf=5, min_samples_split=3;, score=0.982 total time=  16.0s\n",
      "[CV 3/3] END max_depth=5, min_samples_leaf=5, min_samples_split=3;, score=0.978 total time=   8.0s\n",
      "[CV 2/3] END max_depth=3, min_samples_leaf=2, min_samples_split=2;, score=0.949 total time=   5.0s\n",
      "[CV 2/3] END max_depth=3, min_samples_leaf=1, min_samples_split=2;, score=0.949 total time=   5.1s\n",
      "[CV 1/3] END max_depth=10, min_samples_leaf=1, min_samples_split=4;, score=0.984 total time=  16.8s\n",
      "[CV 3/3] END max_depth=3, min_samples_leaf=5, min_samples_split=2;, score=0.951 total time=   4.9s\n",
      "[CV 2/3] END max_depth=10, min_samples_leaf=5, min_samples_split=3;, score=0.984 total time=  16.2s\n",
      "[CV 1/3] END max_depth=5, min_samples_leaf=2, min_samples_split=2;, score=0.978 total time=   8.4s\n",
      "[CV 3/3] END max_depth=3, min_samples_leaf=2, min_samples_split=2;, score=0.951 total time=   4.6s\n",
      "[CV 3/3] END max_depth=10, min_samples_leaf=5, min_samples_split=3;, score=0.981 total time=  16.0s\n",
      "[CV 3/3] END max_depth=5, min_samples_leaf=5, min_samples_split=3;, score=0.978 total time=   8.6s\n",
      "[CV 1/3] END max_depth=3, min_samples_leaf=2, min_samples_split=2;, score=0.952 total time=   4.6s\n",
      "[CV 3/3] END max_depth=10, min_samples_leaf=5, min_samples_split=3;, score=0.982 total time=  16.9s\n",
      "[CV 2/3] END max_depth=5, min_samples_leaf=2, min_samples_split=2;, score=0.980 total time=   7.9s\n",
      "[CV 1/3] END max_depth=3, min_samples_leaf=2, min_samples_split=2;, score=0.952 total time=   5.0s\n",
      "[CV 1/3] END max_depth=3, min_samples_leaf=1, min_samples_split=2;, score=0.952 total time=   5.6s\n",
      "[CV 3/3] END max_depth=5, min_samples_leaf=1, min_samples_split=2;, score=0.978 total time=   9.3s\n",
      "[CV 2/3] END max_depth=5, min_samples_leaf=5, min_samples_split=3;, score=0.979 total time=   8.5s\n",
      "[CV 3/3] END max_depth=3, min_samples_leaf=5, min_samples_split=2;, score=0.951 total time=   5.1s\n",
      "[CV 2/3] END max_depth=10, min_samples_leaf=5, min_samples_split=3;, score=0.984 total time=  16.2s\n",
      "[CV 2/3] END max_depth=5, min_samples_leaf=2, min_samples_split=2;, score=0.979 total time=   8.0s\n",
      "[CV 2/3] END max_depth=3, min_samples_leaf=2, min_samples_split=2;, score=0.949 total time=   4.7s\n",
      "[CV 1/3] END max_depth=3, min_samples_leaf=1, min_samples_split=2;, score=0.952 total time=   5.2s\n",
      "[CV 3/3] END max_depth=5, min_samples_leaf=1, min_samples_split=2;, score=0.978 total time=   8.7s\n",
      "[CV 2/3] END max_depth=5, min_samples_leaf=5, min_samples_split=3;, score=0.980 total time=   8.1s\n",
      "[CV 1/3] END max_depth=3, min_samples_leaf=5, min_samples_split=2;, score=0.952 total time=   5.0s\n",
      "[CV 3/3] END max_depth=5, min_samples_leaf=5, min_samples_split=4;, score=0.978 total time=   5.8s\n"
     ]
    }
   ],
   "source": [
    "dt_random.best_params_"
   ]
  },
  {
   "cell_type": "code",
   "execution_count": 19,
   "id": "5408ce32",
   "metadata": {},
   "outputs": [
    {
     "name": "stdout",
     "output_type": "stream",
     "text": [
      "14.5 s ± 25 ms per loop (mean ± std. dev. of 7 runs, 1 loop each)\n"
     ]
    }
   ],
   "source": [
    "best_dt = tree.DecisionTreeClassifier(max_depth=10,\n",
    "                                 min_samples_split=4,\n",
    "                                min_samples_leaf=1)\n",
    "%timeit best_dt.fit(X_train_flat, y_train)"
   ]
  },
  {
   "cell_type": "code",
   "execution_count": 21,
   "id": "01e92209",
   "metadata": {},
   "outputs": [],
   "source": [
    "y_pred = best_dt.predict(X_test_flat)"
   ]
  },
  {
   "cell_type": "code",
   "execution_count": 22,
   "id": "7cac5489",
   "metadata": {},
   "outputs": [
    {
     "name": "stdout",
     "output_type": "stream",
     "text": [
      "F1 score:  91.58%\n"
     ]
    }
   ],
   "source": [
    "print('F1 score: ', '{:2.2%}'.format(f1_score(y_test, y_pred)))"
   ]
  },
  {
   "cell_type": "markdown",
   "id": "87cbc04e",
   "metadata": {},
   "source": [
    "### Forêts aléatoires"
   ]
  },
  {
   "cell_type": "code",
   "execution_count": 2,
   "id": "5c04b0e2",
   "metadata": {},
   "outputs": [],
   "source": [
    "from sklearn.ensemble import RandomForestClassifier"
   ]
  },
  {
   "cell_type": "markdown",
   "id": "c66190df",
   "metadata": {},
   "source": [
    "Encore une fois, nous essayons d'abord les hyperparamètres par défaut :"
   ]
  },
  {
   "cell_type": "code",
   "execution_count": 24,
   "id": "045bfe40",
   "metadata": {},
   "outputs": [
    {
     "name": "stdout",
     "output_type": "stream",
     "text": [
      "1min 8s ± 304 ms per loop (mean ± std. dev. of 7 runs, 1 loop each)\n"
     ]
    }
   ],
   "source": [
    "rf = RandomForestClassifier()\n",
    "%timeit rf.fit(X_train_flat, y_train)"
   ]
  },
  {
   "cell_type": "code",
   "execution_count": 26,
   "id": "cd9ef595",
   "metadata": {},
   "outputs": [],
   "source": [
    "y_pred = rf.predict(X_test_flat)"
   ]
  },
  {
   "cell_type": "code",
   "execution_count": 27,
   "id": "40d37b2d",
   "metadata": {},
   "outputs": [
    {
     "name": "stdout",
     "output_type": "stream",
     "text": [
      "F1 score:  96.81%\n"
     ]
    }
   ],
   "source": [
    "print('F1 score: ', '{:2.2%}'.format(f1_score(y_test, y_pred)))"
   ]
  },
  {
   "cell_type": "markdown",
   "id": "54757d43",
   "metadata": {},
   "source": [
    "Maintenant, nous cherchons le meilleur modèle :"
   ]
  },
  {
   "cell_type": "code",
   "execution_count": 19,
   "id": "1493924f",
   "metadata": {},
   "outputs": [
    {
     "name": "stdout",
     "output_type": "stream",
     "text": [
      "{'criterion': ['gini', 'entropy'], 'max_depth': [3, 5, 10], 'min_samples_leaf': [1, 2, 5], 'min_samples_split': [2, 5, 10]}\n"
     ]
    }
   ],
   "source": [
    "criterion = ['gini', 'entropy']\n",
    "# n_estimators = [int(i) for i in np.linspace(200, 2000, num=10)]\n",
    "# max_features = ['sqrt', None]\n",
    "# max_depth = [int(i) for i in np.linspace(10, 110, num=11)]\n",
    "# max_depth.append(None)\n",
    "max_depth = [3, 5, 10]\n",
    "min_samples_leaf = [1, 2, 5]\n",
    "min_samples_split = [2, 5, 10]\n",
    "# bootstrap = [True, False]\n",
    "\n",
    "random_grid = {'criterion': criterion,\n",
    "#                'n_estimators': n_estimators,\n",
    "#                'max_features': max_features,\n",
    "               'max_depth': max_depth,\n",
    "               'min_samples_leaf': min_samples_leaf,\n",
    "               'min_samples_split': min_samples_split,\n",
    "#                'bootstrap': bootstrap\n",
    "              }\n",
    "print(random_grid)"
   ]
  },
  {
   "cell_type": "code",
   "execution_count": 20,
   "id": "c0478c2c",
   "metadata": {},
   "outputs": [],
   "source": [
    "rf = RandomForestClassifier()\n",
    "rf_random = RandomizedSearchCV(estimator=rf, param_distributions=random_grid, n_iter=5,\n",
    "                               random_state=42, cv=3, verbose=2, n_jobs=-1)"
   ]
  },
  {
   "cell_type": "code",
   "execution_count": 21,
   "id": "f467f2ee",
   "metadata": {},
   "outputs": [
    {
     "name": "stdout",
     "output_type": "stream",
     "text": [
      "Fitting 3 folds for each of 5 candidates, totalling 15 fits\n"
     ]
    },
    {
     "data": {
      "text/plain": [
       "RandomizedSearchCV(cv=3, estimator=RandomForestClassifier(), n_iter=5,\n",
       "                   n_jobs=-1,\n",
       "                   param_distributions={'criterion': ['gini', 'entropy'],\n",
       "                                        'max_depth': [3, 5, 10],\n",
       "                                        'min_samples_leaf': [1, 2, 5],\n",
       "                                        'min_samples_split': [2, 5, 10]},\n",
       "                   random_state=42, verbose=2)"
      ]
     },
     "execution_count": 21,
     "metadata": {},
     "output_type": "execute_result"
    }
   ],
   "source": [
    "rf_random.fit(X_train_flat, y_train)"
   ]
  },
  {
   "cell_type": "code",
   "execution_count": 22,
   "id": "c65460ec",
   "metadata": {},
   "outputs": [
    {
     "data": {
      "text/plain": [
       "{'min_samples_split': 2,\n",
       " 'min_samples_leaf': 2,\n",
       " 'max_depth': 10,\n",
       " 'criterion': 'entropy'}"
      ]
     },
     "execution_count": 22,
     "metadata": {},
     "output_type": "execute_result"
    }
   ],
   "source": [
    "rf_random.best_params_"
   ]
  },
  {
   "cell_type": "code",
   "execution_count": 23,
   "id": "49ebdbc0",
   "metadata": {},
   "outputs": [
    {
     "name": "stdout",
     "output_type": "stream",
     "text": [
      "[CV] END criterion=entropy, max_depth=10, min_samples_leaf=2, min_samples_split=2; total time=  40.3s\n",
      "[CV] END criterion=entropy, max_depth=10, min_samples_leaf=2, min_samples_split=2; total time=  32.0s\n",
      "34.7 s ± 149 ms per loop (mean ± std. dev. of 7 runs, 1 loop each)\n"
     ]
    }
   ],
   "source": [
    "best_rf = RandomForestClassifier(min_samples_split=2,\n",
    "                                min_samples_leaf=2,\n",
    "                                max_depth=10,\n",
    "                                criterion='entropy')\n",
    "%timeit best_rf.fit(X_train_flat, y_train)"
   ]
  },
  {
   "cell_type": "code",
   "execution_count": 28,
   "id": "5d435c6d",
   "metadata": {},
   "outputs": [],
   "source": [
    "y_pred = best_rf.predict(X_test_flat)"
   ]
  },
  {
   "cell_type": "code",
   "execution_count": 29,
   "id": "c82e4b7e",
   "metadata": {},
   "outputs": [
    {
     "name": "stdout",
     "output_type": "stream",
     "text": [
      "F1 score:  96.19%\n"
     ]
    }
   ],
   "source": [
    "print('F1 score: ', '{:2.2%}'.format(f1_score(y_test, y_pred)))"
   ]
  },
  {
   "cell_type": "markdown",
   "id": "acecdfae",
   "metadata": {},
   "source": [
    "Notons que, bien que nous prenions un petit nombre de paramètres à faire varier pour l'entraînement de notre modèle, ce dernier prend un temps considérable. C'est pourquoi il est nécessaire de faire de la LDA."
   ]
  },
  {
   "cell_type": "markdown",
   "id": "06abda4b",
   "metadata": {},
   "source": [
    "## 3. Réduction de dimension avec le LDA"
   ]
  },
  {
   "cell_type": "code",
   "execution_count": 9,
   "id": "4b2ff75f",
   "metadata": {},
   "outputs": [],
   "source": [
    "from sklearn.discriminant_analysis import LinearDiscriminantAnalysis"
   ]
  },
  {
   "cell_type": "code",
   "execution_count": 10,
   "id": "7e4b3983",
   "metadata": {},
   "outputs": [],
   "source": [
    "lda = LinearDiscriminantAnalysis()"
   ]
  },
  {
   "cell_type": "code",
   "execution_count": 23,
   "id": "0e05751e",
   "metadata": {},
   "outputs": [],
   "source": [
    "X_train_p = lda.fit_transform(X_train_flat, y_train)\n",
    "X_test_p = lda.transform(X_test_flat)"
   ]
  },
  {
   "cell_type": "code",
   "execution_count": 73,
   "id": "0322d9c4",
   "metadata": {},
   "outputs": [
    {
     "data": {
      "text/plain": [
       "1"
      ]
     },
     "execution_count": 73,
     "metadata": {},
     "output_type": "execute_result"
    }
   ],
   "source": [
    "len(X_train_p[0])"
   ]
  },
  {
   "cell_type": "markdown",
   "id": "ab1064c9",
   "metadata": {},
   "source": [
    "Nous pouvons voir les données réduites :"
   ]
  },
  {
   "cell_type": "code",
   "execution_count": 77,
   "id": "151f07cc",
   "metadata": {},
   "outputs": [
    {
     "data": {
      "image/png": "[encoded data removed]",
      "text/plain": [
       "<Figure size 640x480 with 1 Axes>"
      ]
     },
     "metadata": {},
     "output_type": "display_data"
    }
   ],
   "source": [
    "plt.scatter(X_train_p[:,0], np.zeros(X_train_p.shape[0]), c=y_train)\n",
    "plt.show()"
   ]
  },
  {
   "cell_type": "markdown",
   "id": "1afff855",
   "metadata": {},
   "source": [
    "Notons que la séparation entre les classes semble assez bonne visuellement."
   ]
  },
  {
   "cell_type": "markdown",
   "id": "074d26e2",
   "metadata": {},
   "source": [
    "### knn"
   ]
  },
  {
   "cell_type": "markdown",
   "id": "8b2e6664",
   "metadata": {},
   "source": [
    "Dans un premier temps, nous testons l'impact de la réduction dans un modèle knn :"
   ]
  },
  {
   "cell_type": "code",
   "execution_count": 50,
   "id": "e142206e",
   "metadata": {},
   "outputs": [],
   "source": [
    "def knn_test():\n",
    "    knn, k, f1_value = search_knn_best_model(X_train_p, X_test_p, y_train, y_test, f1_score)\n",
    "    print('Best model: k = ', k, ', F1 score = {:2.2%}'.format(f1_value))"
   ]
  },
  {
   "cell_type": "code",
   "execution_count": 57,
   "id": "9b159780",
   "metadata": {},
   "outputs": [
    {
     "name": "stdout",
     "output_type": "stream",
     "text": [
      "k =  1 , Metric = 87.02%\n",
      "k =  2 , Metric = 87.42%\n",
      "k =  3 , Metric = 90.10%\n",
      "k =  4 , Metric = 89.68%\n",
      "k =  5 , Metric = 90.01%\n",
      "k =  6 , Metric = 89.78%\n",
      "k =  7 , Metric = 90.33%\n",
      "k =  8 , Metric = 90.71%\n",
      "k =  9 , Metric = 90.67%\n",
      "k =  10 , Metric = 90.61%\n",
      "Best model: k =  8 , F1 score = 90.71%\n",
      "1.98 s ± 0 ns per loop (mean ± std. dev. of 1 run, 1 loop each)\n"
     ]
    }
   ],
   "source": [
    "%timeit -r 1 -n 1 knn_test()"
   ]
  },
  {
   "cell_type": "markdown",
   "id": "6a482397",
   "metadata": {},
   "source": [
    "Nous pouvons voir que le temps est considérablement réduit par rapport au temps d'apprentissage du modèle sans réduction. Cela s'explique par le fait que, lorsque nous obtiendrons la distance de deux points dans le modèle avec réduction (n'ayant qu'un seul attribut), nos obtiendrons simplement une distance sur la droite numérique, alors que dans le cas précédent, nous devions obtenir la distance entre deux points dans un espace de dimension 784, qui a une complexité plus élevée (il faut ajouter 784 termes au carré et obtenir la racine dans chaque cas). On peut voir, en revanche, que la métrique est moins bonne (d'environ 7 points de pourcentage), mais ce n'est pas si significatif compte tenu du fait que la dimension a été réduite 784 fois."
   ]
  },
  {
   "cell_type": "markdown",
   "id": "0c13c58a",
   "metadata": {},
   "source": [
    "### Forêts aléatoires"
   ]
  },
  {
   "cell_type": "code",
   "execution_count": null,
   "id": "049ff1de",
   "metadata": {},
   "outputs": [],
   "source": []
  }
 ],
 "metadata": {
  "kernelspec": {
   "display_name": "Python 3 (ipykernel)",
   "language": "python",
   "name": "python3"
  },
  "language_info": {
   "codemirror_mode": {
    "name": "ipython",
    "version": 3
   },
   "file_extension": ".py",
   "mimetype": "text/x-python",
   "name": "python",
   "nbconvert_exporter": "python",
   "pygments_lexer": "ipython3",
   "version": "3.7.3"
  }
 },
 "nbformat": 4,
 "nbformat_minor": 5
}
