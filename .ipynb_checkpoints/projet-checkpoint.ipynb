{
 "cells": [
  {
   "cell_type": "markdown",
   "id": "adcc20a2",
   "metadata": {},
   "source": [
    "# (Mini) projet - Analyse, classification et indexation des données"
   ]
  },
  {
   "cell_type": "markdown",
   "id": "5b5522b0",
   "metadata": {},
   "source": [
    "Premièrement, nous chargeons les données :"
   ]
  },
  {
   "cell_type": "code",
   "execution_count": 4,
   "id": "6fdd477a",
   "metadata": {},
   "outputs": [],
   "source": [
    "from keras.datasets import fashion_mnist\n",
    "(X_train, y_train), (X_test, y_test) = fashion_mnist.load_data()"
   ]
  },
  {
   "cell_type": "markdown",
   "id": "9e074d11",
   "metadata": {},
   "source": [
    "Exemple montrant une image du jeu de données :"
   ]
  },
  {
   "cell_type": "code",
   "execution_count": 5,
   "id": "b36d68c4",
   "metadata": {},
   "outputs": [],
   "source": [
    "import matplotlib.pyplot as plt\n",
    "import matplotlib.cm as cm"
   ]
  },
  {
   "cell_type": "code",
   "execution_count": 6,
   "id": "82b1f974",
   "metadata": {},
   "outputs": [
    {
     "data": {
      "image/png": "[encoded data removed]",
      "text/plain": [
       "<Figure size 640x480 with 1 Axes>"
      ]
     },
     "metadata": {},
     "output_type": "display_data"
    },
    {
     "name": "stdout",
     "output_type": "stream",
     "text": [
      "9\n"
     ]
    }
   ],
   "source": [
    "%matplotlib inline\n",
    "plt.imshow(X_train[0], cmap=cm.Greys)\n",
    "plt.show()\n",
    "print(y_train[0])"
   ]
  },
  {
   "cell_type": "markdown",
   "id": "a340a681",
   "metadata": {},
   "source": [
    "## 1. Reemplacer les étiquettes"
   ]
  },
  {
   "cell_type": "markdown",
   "id": "7d11b05f",
   "metadata": {},
   "source": [
    "Maintenant, nous allons remplacer les labels pour n'avoir que deux classes : 0 pour les vêtements (lorsque la classe d'origine est différente de 8) et 1 dans le cas des accessoires (lorsque la classe d'origine est égale à 8). Nous avons choisi que les vêtements soient la classe négative et les accessoires la classe positif pusique cette dernière est la classe minoritaire (cette décision nous aidera plus tard, lorsque nous obtiendrons les métriques des modèles) :"
   ]
  },
  {
   "cell_type": "code",
   "execution_count": 7,
   "id": "04f94631",
   "metadata": {},
   "outputs": [],
   "source": [
    "def reemplacer_labels(y):\n",
    "    return (y == 8).astype(int)"
   ]
  },
  {
   "cell_type": "code",
   "execution_count": 8,
   "id": "264a1936",
   "metadata": {},
   "outputs": [],
   "source": [
    "import numpy as np"
   ]
  },
  {
   "cell_type": "code",
   "execution_count": 9,
   "id": "cba3ed53",
   "metadata": {},
   "outputs": [],
   "source": [
    "y_train = reemplacer_labels(y_train)\n",
    "y_test = reemplacer_labels(y_test)"
   ]
  },
  {
   "cell_type": "code",
   "execution_count": 11,
   "id": "ca6f17be",
   "metadata": {},
   "outputs": [
    {
     "name": "stdout",
     "output_type": "stream",
     "text": [
      "Number of vetements:  54000\n",
      "Number of accesoires:  6000\n"
     ]
    }
   ],
   "source": [
    "nb_vetements = np.count_nonzero(y_train == 0)\n",
    "nb_accesoires = np.count_nonzero(y_train == 1)\n",
    "print('Number of vetements: ', nb_vetements)\n",
    "print('Number of accesoires: ', nb_accesoires)"
   ]
  },
  {
   "cell_type": "markdown",
   "id": "a3c0751b",
   "metadata": {},
   "source": [
    "## 2. Tests avec classifieurs"
   ]
  },
  {
   "cell_type": "markdown",
   "id": "1b023218",
   "metadata": {},
   "source": [
    "Nous allons entraîner le modèle avec les classifieurs k-nn, naïve Bayes, des arbres de décision et des forêts aléatoires. Tout d'abord, nous allons aplatir les données afin de pouvoir travailler avec sklearn :"
   ]
  },
  {
   "cell_type": "code",
   "execution_count": 12,
   "id": "58f8afd4",
   "metadata": {},
   "outputs": [],
   "source": [
    "X_train_flat = X_train.reshape(X_train.shape[0], -1)\n",
    "X_test_flat = X_test.reshape(X_test.shape[0], -1)"
   ]
  },
  {
   "cell_type": "markdown",
   "id": "b7c002d7",
   "metadata": {},
   "source": [
    "Nous importerons également les modules liés aux métriques :"
   ]
  },
  {
   "cell_type": "code",
   "execution_count": 13,
   "id": "f358a0e6",
   "metadata": {},
   "outputs": [],
   "source": [
    "from sklearn.metrics import confusion_matrix, accuracy_score, precision_score, recall_score, f1_score"
   ]
  },
  {
   "cell_type": "markdown",
   "id": "d1969f3d",
   "metadata": {},
   "source": [
    "### k-nn"
   ]
  },
  {
   "cell_type": "code",
   "execution_count": 14,
   "id": "4706b44e",
   "metadata": {},
   "outputs": [],
   "source": [
    "from sklearn.neighbors import KNeighborsClassifier"
   ]
  },
  {
   "cell_type": "markdown",
   "id": "6020b2bc",
   "metadata": {},
   "source": [
    "Tout d'abord, nous allons essayer le knn avec les hyperparamètres par défaut (c'est-à-dire avec 5 voisins) :"
   ]
  },
  {
   "cell_type": "code",
   "execution_count": 15,
   "id": "9a0cacd3",
   "metadata": {},
   "outputs": [],
   "source": [
    "knn = KNeighborsClassifier()"
   ]
  },
  {
   "cell_type": "code",
   "execution_count": 16,
   "id": "5bb8905a",
   "metadata": {},
   "outputs": [
    {
     "name": "stdout",
     "output_type": "stream",
     "text": [
      "2.07 ms ± 71.6 µs per loop (mean ± std. dev. of 7 runs, 100 loops each)\n"
     ]
    }
   ],
   "source": [
    "%timeit knn.fit(X_train_flat, y_train)"
   ]
  },
  {
   "cell_type": "code",
   "execution_count": 17,
   "id": "71a91a9e",
   "metadata": {},
   "outputs": [],
   "source": [
    "y_pred = knn.predict(X_test_flat)"
   ]
  },
  {
   "cell_type": "code",
   "execution_count": 18,
   "id": "5a8ca84b",
   "metadata": {},
   "outputs": [
    {
     "name": "stdout",
     "output_type": "stream",
     "text": [
      "Confusion matrix:\n",
      " [[8979   21]\n",
      " [  50  950]]\n"
     ]
    }
   ],
   "source": [
    "print('Confusion matrix:\\n', confusion_matrix(y_test, y_pred))"
   ]
  },
  {
   "cell_type": "code",
   "execution_count": 19,
   "id": "015a23ea",
   "metadata": {},
   "outputs": [
    {
     "name": "stdout",
     "output_type": "stream",
     "text": [
      "Accuracy:  99.29%\n",
      "Precision:  97.84%\n",
      "Recall:  95.00%\n",
      "F1:  96.40%\n"
     ]
    }
   ],
   "source": [
    "print('Accuracy: ', '{:2.2%}'.format(accuracy_score(y_test, y_pred)))\n",
    "print('Precision: ', '{:2.2%}'.format(precision_score(y_test, y_pred)))\n",
    "print('Recall: ', '{:2.2%}'.format(recall_score(y_test, y_pred)))\n",
    "print('F1: ', '{:2.2%}'.format(f1_score(y_test, y_pred)))"
   ]
  },
  {
   "cell_type": "markdown",
   "id": "3b9efb1d",
   "metadata": {},
   "source": [
    "Nous pouvons voir que l'accuracy est assez élevée, mais nous devons tenir compte du fait que les classes sont déséquilibrées (il y a un rapport entre vrais positifs et négatifs de 10:1), donc l'accuracy sera bonne même si la prédiction des negatifs est pas bon (c'est-à-dire que nous courons le risque que notre modèle mette plus d'éléments que nous le devrions dans la classe négative sans affecter l'accuracy).\n",
    "\n",
    "Il est donc nécessaire de décider quelle métrique d'évaluation utiliser : précision, recall ou score F. Considérons que la précision est utilisée lorsque le coût d'avoir un faux positif est élevé (comme dans la détection de spam) et le recall, lorsque le coût d'avoir un faux négatif est élevé (comme dans le cas de la détection d'une maladie). Le score F1 est la moyenne harmonique des deux mesures précédentes, nous avons donc décidé d'utiliser cette dernière (puisque la mauvaise classification d'un accessoire n'est pas considérée comme plus importante que la mauvaise classification des vêtements, ou vice versa, mais nous voulons un équilibre entre les deux)."
   ]
  },
  {
   "cell_type": "markdown",
   "id": "a6714443",
   "metadata": {},
   "source": [
    "Maintenant, nous allons essayer de trouver un modèle plus optimal :"
   ]
  },
  {
   "cell_type": "code",
   "execution_count": 36,
   "id": "c7c56ee4",
   "metadata": {},
   "outputs": [],
   "source": [
    "def search_knn_best_model(X_train, X_test, y_train, y_test, metric=accuracy_score, n=100, patience=10):\n",
    "    best_metric = -1\n",
    "    best_model = None\n",
    "    k = 1\n",
    "    p = patience\n",
    "    while k < n and p > 0:\n",
    "        knn = KNeighborsClassifier(n_neighbors=k)\n",
    "        knn.fit(X_train, y_train)\n",
    "        y_pred = knn.predict(X_test)\n",
    "        metric_value = metric(y_test, y_pred)\n",
    "        print('k = ', k, ', Metric = {:2.2%}'.format(metric_value))\n",
    "        if (metric_value > best_metric):\n",
    "            best_metric = metric_value\n",
    "            best_model = knn\n",
    "            p += 1\n",
    "        p -= 1\n",
    "        k += 1\n",
    "    return best_model, k, best_metric"
   ]
  },
  {
   "cell_type": "code",
   "execution_count": 37,
   "id": "4c05f826",
   "metadata": {},
   "outputs": [
    {
     "name": "stdout",
     "output_type": "stream",
     "text": [
      "k =  1 , Metric = 97.01%\n",
      "k =  2 , Metric = 95.78%\n",
      "k =  3 , Metric = 96.55%\n",
      "k =  4 , Metric = 96.42%\n",
      "k =  5 , Metric = 96.40%\n",
      "k =  6 , Metric = 96.06%\n",
      "Best model: k =  7 , F1 score = 97.01%\n"
     ]
    }
   ],
   "source": [
    "knn, k, f1_score = search_knn_best_model(X_train_flat, X_test_flat, y_train, y_test, f1_score)\n",
    "print('Best model: k = ', k, ', F1 score = {:2.2%}'.format(f1_score))"
   ]
  },
  {
   "cell_type": "markdown",
   "id": "5da4d07b",
   "metadata": {},
   "source": [
    "### Naïve Bayes"
   ]
  },
  {
   "cell_type": "code",
   "execution_count": null,
   "id": "b30126f2",
   "metadata": {},
   "outputs": [],
   "source": [
    "from sklearn.naive_bayes import GaussianNB"
   ]
  },
  {
   "cell_type": "code",
   "execution_count": null,
   "id": "7e602814",
   "metadata": {},
   "outputs": [],
   "source": [
    "nb = GaussianNB() \n",
    "%timeit nb.fit(X_train_flat, y_train)"
   ]
  },
  {
   "cell_type": "code",
   "execution_count": null,
   "id": "081fb69f",
   "metadata": {},
   "outputs": [],
   "source": [
    "y_pred = nb.predict(X_test_flat)"
   ]
  },
  {
   "cell_type": "code",
   "execution_count": null,
   "id": "ce709952",
   "metadata": {},
   "outputs": [],
   "source": [
    "print('Accuracy: ', '{:2.2%}'.format(accuracy_score(y_test, y_pred)))"
   ]
  },
  {
   "cell_type": "markdown",
   "id": "2027b326",
   "metadata": {},
   "source": [
    "### Arbres de décision"
   ]
  },
  {
   "cell_type": "code",
   "execution_count": null,
   "id": "0f56a173",
   "metadata": {},
   "outputs": [],
   "source": [
    "from sklearn import preprocessing"
   ]
  },
  {
   "cell_type": "code",
   "execution_count": null,
   "id": "0599568f",
   "metadata": {},
   "outputs": [],
   "source": [
    "from sklearn import tree"
   ]
  },
  {
   "cell_type": "code",
   "execution_count": null,
   "id": "a28f4d3a",
   "metadata": {},
   "outputs": [],
   "source": [
    "dt = tree.DecisionTreeClassifier()\n",
    "%timeit dt.fit(X_train_flat, y_train)"
   ]
  },
  {
   "cell_type": "code",
   "execution_count": null,
   "id": "29c1ebec",
   "metadata": {},
   "outputs": [],
   "source": [
    "from sklearn.tree import export_graphviz\n",
    "from six import StringIO\n",
    "from IPython.display import Image\n",
    "# import pydotplus\n",
    "import numpy as np"
   ]
  },
  {
   "cell_type": "code",
   "execution_count": null,
   "id": "dad89a77",
   "metadata": {},
   "outputs": [],
   "source": [
    "dot_data = StringIO()\n",
    "export_graphviz(dt, out_file=dot_data, filled=True, rounded=True, special_characters=True)\n",
    "graph = pydotplus.graph_from_data(dot_data.getvalue())\n",
    "Image(graph.create_png())"
   ]
  },
  {
   "cell_type": "code",
   "execution_count": null,
   "id": "fefcc906",
   "metadata": {},
   "outputs": [],
   "source": [
    "y_pred = dt.predict(X_test_flat)"
   ]
  },
  {
   "cell_type": "code",
   "execution_count": null,
   "id": "a3509502",
   "metadata": {},
   "outputs": [],
   "source": [
    "print('Accuracy: ', '{:2.2%}'.format(accuracy_score(y_test, y_pred)))"
   ]
  },
  {
   "cell_type": "markdown",
   "id": "e35e0fcb",
   "metadata": {},
   "source": [
    "### Forêts aléatoires"
   ]
  },
  {
   "cell_type": "code",
   "execution_count": null,
   "id": "f1276b40",
   "metadata": {},
   "outputs": [],
   "source": [
    "from sklearn.ensemble import RandomForestClassifier"
   ]
  },
  {
   "cell_type": "code",
   "execution_count": null,
   "id": "6b171da3",
   "metadata": {},
   "outputs": [],
   "source": [
    "rf = RandomForestClassifier()\n",
    "%timeit rf.fit(X_train_flat, y_train)"
   ]
  },
  {
   "cell_type": "code",
   "execution_count": null,
   "id": "a43d2149",
   "metadata": {},
   "outputs": [],
   "source": [
    "y_pred = rf.predict(X_test)"
   ]
  },
  {
   "cell_type": "code",
   "execution_count": null,
   "id": "5a3332a4",
   "metadata": {},
   "outputs": [],
   "source": [
    "print('Accuracy: ', '{:2.2%}'.format(accuracy_score(y_test, y_pred)))"
   ]
  },
  {
   "cell_type": "code",
   "execution_count": null,
   "id": "4eb58262",
   "metadata": {},
   "outputs": [],
   "source": []
  }
 ],
 "metadata": {
  "kernelspec": {
   "display_name": "Python 3 (ipykernel)",
   "language": "python",
   "name": "python3"
  },
  "language_info": {
   "codemirror_mode": {
    "name": "ipython",
    "version": 3
   },
   "file_extension": ".py",
   "mimetype": "text/x-python",
   "name": "python",
   "nbconvert_exporter": "python",
   "pygments_lexer": "ipython3",
   "version": "3.7.3"
  }
 },
 "nbformat": 4,
 "nbformat_minor": 5
}
